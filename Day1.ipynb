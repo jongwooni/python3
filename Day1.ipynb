{
 "cells": [
  {
   "cell_type": "code",
   "execution_count": 5,
   "metadata": {
    "scrolled": true
   },
   "outputs": [
    {
     "data": {
      "text/plain": [
       "25000000"
      ]
     },
     "execution_count": 5,
     "metadata": {},
     "output_type": "execute_result"
    }
   ],
   "source": [
    "sum(range(1,10000,2))"
   ]
  },
  {
   "cell_type": "code",
   "execution_count": 7,
   "metadata": {},
   "outputs": [
    {
     "name": "stdout",
     "output_type": "stream",
     "text": [
      "0\n",
      "1\n",
      "2\n",
      "3\n",
      "4\n",
      "5\n",
      "6\n",
      "7\n",
      "8\n",
      "9\n"
     ]
    }
   ],
   "source": [
    "for i in range(10):\n",
    "    print(i)"
   ]
  },
  {
   "cell_type": "markdown",
   "metadata": {},
   "source": [
    "## 루프 \n",
    "+ [파이썬](http://python.org)은 귀도가 만들었습니다.\n",
    "+ range 함수"
   ]
  },
  {
   "cell_type": "markdown",
   "metadata": {},
   "source": [
    "## 데이터 타입\n",
    "\n",
    "### int"
   ]
  },
  {
   "cell_type": "code",
   "execution_count": null,
   "metadata": {
    "collapsed": true
   },
   "outputs": [],
   "source": []
  },
  {
   "cell_type": "code",
   "execution_count": 8,
   "metadata": {},
   "outputs": [
    {
     "data": {
      "text/plain": [
       "12"
      ]
     },
     "execution_count": 8,
     "metadata": {},
     "output_type": "execute_result"
    }
   ],
   "source": [
    "10  +2\n"
   ]
  },
  {
   "cell_type": "code",
   "execution_count": 9,
   "metadata": {},
   "outputs": [
    {
     "data": {
      "text/plain": [
       "3.3333333333333335"
      ]
     },
     "execution_count": 9,
     "metadata": {},
     "output_type": "execute_result"
    }
   ],
   "source": [
    "10/3"
   ]
  },
  {
   "cell_type": "code",
   "execution_count": 10,
   "metadata": {},
   "outputs": [
    {
     "data": {
      "text/plain": [
       "5.0"
      ]
     },
     "execution_count": 10,
     "metadata": {},
     "output_type": "execute_result"
    }
   ],
   "source": [
    "10/2"
   ]
  },
  {
   "cell_type": "code",
   "execution_count": 11,
   "metadata": {},
   "outputs": [
    {
     "data": {
      "text/plain": [
       "3"
      ]
     },
     "execution_count": 11,
     "metadata": {},
     "output_type": "execute_result"
    }
   ],
   "source": [
    "10 //3"
   ]
  },
  {
   "cell_type": "code",
   "execution_count": 12,
   "metadata": {},
   "outputs": [
    {
     "data": {
      "text/plain": [
       "5"
      ]
     },
     "execution_count": 12,
     "metadata": {},
     "output_type": "execute_result"
    }
   ],
   "source": [
    "10//2"
   ]
  },
  {
   "cell_type": "code",
   "execution_count": 13,
   "metadata": {},
   "outputs": [
    {
     "data": {
      "text/plain": [
       "1"
      ]
     },
     "execution_count": 13,
     "metadata": {},
     "output_type": "execute_result"
    }
   ],
   "source": [
    "10%3"
   ]
  },
  {
   "cell_type": "code",
   "execution_count": 14,
   "metadata": {},
   "outputs": [
    {
     "data": {
      "text/plain": [
       "(3, 1)"
      ]
     },
     "execution_count": 14,
     "metadata": {},
     "output_type": "execute_result"
    }
   ],
   "source": [
    "divmod(10,3)"
   ]
  },
  {
   "cell_type": "code",
   "execution_count": 15,
   "metadata": {
    "collapsed": true
   },
   "outputs": [],
   "source": [
    "몫, 나머지 = divmod(10,3)"
   ]
  },
  {
   "cell_type": "code",
   "execution_count": 16,
   "metadata": {},
   "outputs": [
    {
     "data": {
      "text/plain": [
       "3"
      ]
     },
     "execution_count": 16,
     "metadata": {},
     "output_type": "execute_result"
    }
   ],
   "source": [
    "몫"
   ]
  },
  {
   "cell_type": "code",
   "execution_count": 17,
   "metadata": {},
   "outputs": [
    {
     "data": {
      "text/plain": [
       "1"
      ]
     },
     "execution_count": 17,
     "metadata": {},
     "output_type": "execute_result"
    }
   ],
   "source": [
    "나머지"
   ]
  },
  {
   "cell_type": "code",
   "execution_count": null,
   "metadata": {
    "collapsed": true
   },
   "outputs": [],
   "source": []
  },
  {
   "cell_type": "markdown",
   "metadata": {},
   "source": [
    "## bool"
   ]
  },
  {
   "cell_type": "code",
   "execution_count": 23,
   "metadata": {
    "collapsed": true
   },
   "outputs": [],
   "source": [
    "a =10000\n",
    "b =100000"
   ]
  },
  {
   "cell_type": "code",
   "execution_count": 24,
   "metadata": {},
   "outputs": [
    {
     "data": {
      "text/plain": [
       "False"
      ]
     },
     "execution_count": 24,
     "metadata": {},
     "output_type": "execute_result"
    }
   ],
   "source": [
    "a == b"
   ]
  },
  {
   "cell_type": "code",
   "execution_count": 25,
   "metadata": {},
   "outputs": [
    {
     "data": {
      "text/plain": [
       "False"
      ]
     },
     "execution_count": 25,
     "metadata": {},
     "output_type": "execute_result"
    }
   ],
   "source": [
    "a is b"
   ]
  },
  {
   "cell_type": "code",
   "execution_count": 26,
   "metadata": {},
   "outputs": [
    {
     "data": {
      "text/plain": [
       "140354917135184"
      ]
     },
     "execution_count": 26,
     "metadata": {},
     "output_type": "execute_result"
    }
   ],
   "source": [
    "id(a)"
   ]
  },
  {
   "cell_type": "code",
   "execution_count": 27,
   "metadata": {},
   "outputs": [
    {
     "data": {
      "text/plain": [
       "140354917135312"
      ]
     },
     "execution_count": 27,
     "metadata": {},
     "output_type": "execute_result"
    }
   ],
   "source": [
    "id(b)"
   ]
  },
  {
   "cell_type": "code",
   "execution_count": null,
   "metadata": {
    "collapsed": true
   },
   "outputs": [],
   "source": []
  },
  {
   "cell_type": "code",
   "execution_count": null,
   "metadata": {
    "collapsed": true
   },
   "outputs": [],
   "source": []
  },
  {
   "cell_type": "code",
   "execution_count": null,
   "metadata": {
    "collapsed": true
   },
   "outputs": [],
   "source": []
  },
  {
   "cell_type": "code",
   "execution_count": 28,
   "metadata": {},
   "outputs": [
    {
     "name": "stdout",
     "output_type": "stream",
     "text": [
      "python\n"
     ]
    }
   ],
   "source": [
    "name = 'python'\n",
    "print(name)"
   ]
  },
  {
   "cell_type": "code",
   "execution_count": 29,
   "metadata": {},
   "outputs": [
    {
     "name": "stdout",
     "output_type": "stream",
     "text": [
      "python\n"
     ]
    }
   ],
   "source": [
    "name = \"python\"\n",
    "print(name)"
   ]
  },
  {
   "cell_type": "code",
   "execution_count": 32,
   "metadata": {},
   "outputs": [
    {
     "ename": "SyntaxError",
     "evalue": "invalid syntax (<ipython-input-32-6c3ee2673a53>, line 1)",
     "output_type": "error",
     "traceback": [
      "\u001b[0;36m  File \u001b[0;32m\"<ipython-input-32-6c3ee2673a53>\"\u001b[0;36m, line \u001b[0;32m1\u001b[0m\n\u001b[0;31m    \"Hello, /\"python/\", Rudy, Java\"\u001b[0m\n\u001b[0m                   ^\u001b[0m\n\u001b[0;31mSyntaxError\u001b[0m\u001b[0;31m:\u001b[0m invalid syntax\n"
     ]
    }
   ],
   "source": [
    "\"Hello, /\"python/\", Rudy, Java\""
   ]
  },
  {
   "cell_type": "code",
   "execution_count": 33,
   "metadata": {
    "collapsed": true
   },
   "outputs": [],
   "source": [
    "이름 = \"트럼프\"\n",
    "국적 = \"미국\""
   ]
  },
  {
   "cell_type": "code",
   "execution_count": 34,
   "metadata": {},
   "outputs": [
    {
     "data": {
      "text/plain": [
       "'안녕 트럼프 너는 미국 '"
      ]
     },
     "execution_count": 34,
     "metadata": {},
     "output_type": "execute_result"
    }
   ],
   "source": [
    "\"안녕 {} 너는 {} \".format(이름, 국적)"
   ]
  },
  {
   "cell_type": "code",
   "execution_count": 35,
   "metadata": {},
   "outputs": [
    {
     "data": {
      "text/plain": [
       "'안녕 트럼프 너는 미국 '"
      ]
     },
     "execution_count": 35,
     "metadata": {},
     "output_type": "execute_result"
    }
   ],
   "source": [
    "\"안녕 {0} 너는 {1} \".format(이름, 국적)"
   ]
  },
  {
   "cell_type": "code",
   "execution_count": 36,
   "metadata": {},
   "outputs": [
    {
     "data": {
      "text/plain": [
       "'안녕 미국 너는 트럼프 '"
      ]
     },
     "execution_count": 36,
     "metadata": {},
     "output_type": "execute_result"
    }
   ],
   "source": [
    "\"안녕 {1} 너는 {0} \".format(이름, 국적)"
   ]
  },
  {
   "cell_type": "code",
   "execution_count": 40,
   "metadata": {},
   "outputs": [
    {
     "data": {
      "text/plain": [
       "'안녕 트럼프 반갑다 트럼프 너는 미국 '"
      ]
     },
     "execution_count": 40,
     "metadata": {},
     "output_type": "execute_result"
    }
   ],
   "source": [
    "\"안녕 {이름} 반갑다 {이름} 너는 {국적} \".format(이름 = 이름, 국적 = 국적)"
   ]
  },
  {
   "cell_type": "code",
   "execution_count": 41,
   "metadata": {},
   "outputs": [
    {
     "name": "stdout",
     "output_type": "stream",
     "text": [
      "1\n",
      "2\n"
     ]
    }
   ],
   "source": [
    "import time\n",
    "\n",
    "print(\"1\")\n",
    "time.sleep(2)\n",
    "print(\"2\")"
   ]
  },
  {
   "cell_type": "code",
   "execution_count": 42,
   "metadata": {},
   "outputs": [
    {
     "name": "stdout",
     "output_type": "stream",
     "text": [
      "0\n",
      "1\n",
      "2\n",
      "3\n",
      "4\n",
      "5\n",
      "6\n",
      "7\n",
      "8\n",
      "9\n"
     ]
    }
   ],
   "source": [
    "for i in range(10):\n",
    "    print(i)\n"
   ]
  },
  {
   "cell_type": "code",
   "execution_count": 43,
   "metadata": {},
   "outputs": [
    {
     "name": "stdout",
     "output_type": "stream",
     "text": [
      "0\n",
      "1\n",
      "2\n",
      "3\n",
      "4\n",
      "5\n",
      "6\n",
      "7\n",
      "8\n",
      "9\n"
     ]
    }
   ],
   "source": [
    "for i in [0,1,2,3,4,5,6,7,8,9]:\n",
    "    print(i)"
   ]
  },
  {
   "cell_type": "code",
   "execution_count": 45,
   "metadata": {
    "collapsed": true
   },
   "outputs": [],
   "source": [
    "for i in range(100000000000):\n",
    "    break"
   ]
  },
  {
   "cell_type": "code",
   "execution_count": 47,
   "metadata": {
    "collapsed": true
   },
   "outputs": [],
   "source": [
    "range?"
   ]
  },
  {
   "cell_type": "code",
   "execution_count": 49,
   "metadata": {},
   "outputs": [
    {
     "data": {
      "text/plain": [
       "[0, 2, 4, 6, 8]"
      ]
     },
     "execution_count": 49,
     "metadata": {},
     "output_type": "execute_result"
    }
   ],
   "source": [
    "list(range(0,10,2))"
   ]
  },
  {
   "cell_type": "code",
   "execution_count": null,
   "metadata": {
    "collapsed": true
   },
   "outputs": [],
   "source": []
  },
  {
   "cell_type": "code",
   "execution_count": null,
   "metadata": {
    "collapsed": true
   },
   "outputs": [],
   "source": []
  },
  {
   "cell_type": "code",
   "execution_count": 61,
   "metadata": {},
   "outputs": [
    {
     "data": {
      "text/plain": [
       "33333166665"
      ]
     },
     "execution_count": 61,
     "metadata": {},
     "output_type": "execute_result"
    }
   ],
   "source": [
    "sum(range(15,1000001,15))"
   ]
  },
  {
   "cell_type": "code",
   "execution_count": 57,
   "metadata": {},
   "outputs": [
    {
     "ename": "SyntaxError",
     "evalue": "invalid syntax (<ipython-input-57-4fabf976dd75>, line 1)",
     "output_type": "error",
     "traceback": [
      "\u001b[0;36m  File \u001b[0;32m\"<ipython-input-57-4fabf976dd75>\"\u001b[0;36m, line \u001b[0;32m1\u001b[0m\n\u001b[0;31m    for u in range(15,100000,15)\u001b[0m\n\u001b[0m                                ^\u001b[0m\n\u001b[0;31mSyntaxError\u001b[0m\u001b[0;31m:\u001b[0m invalid syntax\n"
     ]
    }
   ],
   "source": [
    "for i in range(15, 100000,15):\n",
    "    a=0\n",
    "    a+="
   ]
  },
  {
   "cell_type": "code",
   "execution_count": null,
   "metadata": {
    "collapsed": true
   },
   "outputs": [],
   "source": []
  },
  {
   "cell_type": "code",
   "execution_count": 2,
   "metadata": {
    "collapsed": true
   },
   "outputs": [],
   "source": [
    "import os\n",
    "import requests\n",
    "from bs4 import BeautifulSoup\n",
    "\n",
    "comic_url = 'https://comic.naver.com/webtoon/detail.nhn?titleId=662774&no=142&weekday=wed'"
   ]
  },
  {
   "cell_type": "code",
   "execution_count": 11,
   "metadata": {},
   "outputs": [
    {
     "data": {
      "text/plain": [
       "['https://image-comic.pstatic.net/webtoon/662774/142/20180707225814_4b71bd0a142a9bb0cbc9c1bf5f2742a8_IMAG01_1.jpg',\n",
       " 'https://image-comic.pstatic.net/webtoon/662774/142/20180707225814_4b71bd0a142a9bb0cbc9c1bf5f2742a8_IMAG01_2.jpg',\n",
       " 'https://image-comic.pstatic.net/webtoon/662774/142/20180707225814_4b71bd0a142a9bb0cbc9c1bf5f2742a8_IMAG01_3.jpg',\n",
       " 'https://image-comic.pstatic.net/webtoon/662774/142/20180707225814_4b71bd0a142a9bb0cbc9c1bf5f2742a8_IMAG01_4.jpg',\n",
       " 'https://image-comic.pstatic.net/webtoon/662774/142/20180707225814_4b71bd0a142a9bb0cbc9c1bf5f2742a8_IMAG01_5.jpg',\n",
       " 'https://image-comic.pstatic.net/webtoon/662774/142/20180707225814_4b71bd0a142a9bb0cbc9c1bf5f2742a8_IMAG01_6.jpg',\n",
       " 'https://image-comic.pstatic.net/webtoon/662774/142/20180707225814_4b71bd0a142a9bb0cbc9c1bf5f2742a8_IMAG01_7.jpg',\n",
       " 'https://image-comic.pstatic.net/webtoon/662774/142/20180707225814_4b71bd0a142a9bb0cbc9c1bf5f2742a8_IMAG01_8.jpg',\n",
       " 'https://image-comic.pstatic.net/webtoon/662774/142/20180707225814_4b71bd0a142a9bb0cbc9c1bf5f2742a8_IMAG01_9.jpg',\n",
       " 'https://image-comic.pstatic.net/webtoon/662774/142/20180707225814_4b71bd0a142a9bb0cbc9c1bf5f2742a8_IMAG01_10.jpg',\n",
       " 'https://image-comic.pstatic.net/webtoon/662774/142/20180707225814_4b71bd0a142a9bb0cbc9c1bf5f2742a8_IMAG01_11.jpg',\n",
       " 'https://image-comic.pstatic.net/webtoon/662774/142/20180707225814_4b71bd0a142a9bb0cbc9c1bf5f2742a8_IMAG01_12.jpg',\n",
       " 'https://image-comic.pstatic.net/webtoon/662774/142/20180707225814_4b71bd0a142a9bb0cbc9c1bf5f2742a8_IMAG01_13.jpg',\n",
       " 'https://image-comic.pstatic.net/webtoon/662774/142/20180707225814_4b71bd0a142a9bb0cbc9c1bf5f2742a8_IMAG01_14.jpg',\n",
       " 'https://image-comic.pstatic.net/webtoon/662774/142/20180707225814_4b71bd0a142a9bb0cbc9c1bf5f2742a8_IMAG01_15.jpg',\n",
       " 'https://image-comic.pstatic.net/webtoon/662774/142/20180707225814_4b71bd0a142a9bb0cbc9c1bf5f2742a8_IMAG01_16.jpg',\n",
       " 'https://image-comic.pstatic.net/webtoon/662774/142/20180707225814_4b71bd0a142a9bb0cbc9c1bf5f2742a8_IMAG01_17.jpg',\n",
       " 'https://image-comic.pstatic.net/webtoon/662774/142/20180707225814_4b71bd0a142a9bb0cbc9c1bf5f2742a8_IMAG01_18.jpg',\n",
       " 'https://image-comic.pstatic.net/webtoon/662774/142/20180707225814_4b71bd0a142a9bb0cbc9c1bf5f2742a8_IMAG01_19.jpg',\n",
       " 'https://image-comic.pstatic.net/webtoon/662774/142/20180707225814_4b71bd0a142a9bb0cbc9c1bf5f2742a8_IMAG01_20.jpg',\n",
       " 'https://image-comic.pstatic.net/webtoon/662774/142/20180707225814_4b71bd0a142a9bb0cbc9c1bf5f2742a8_IMAG01_21.jpg',\n",
       " 'https://image-comic.pstatic.net/webtoon/662774/142/20180707225814_4b71bd0a142a9bb0cbc9c1bf5f2742a8_IMAG01_22.jpg',\n",
       " 'https://image-comic.pstatic.net/webtoon/662774/142/20180707225814_4b71bd0a142a9bb0cbc9c1bf5f2742a8_IMAG01_23.jpg',\n",
       " 'https://image-comic.pstatic.net/webtoon/662774/142/20180707225814_4b71bd0a142a9bb0cbc9c1bf5f2742a8_IMAG01_24.jpg',\n",
       " 'https://image-comic.pstatic.net/webtoon/662774/142/20180707225814_4b71bd0a142a9bb0cbc9c1bf5f2742a8_IMAG01_25.jpg',\n",
       " 'https://image-comic.pstatic.net/webtoon/662774/142/20180707225814_4b71bd0a142a9bb0cbc9c1bf5f2742a8_IMAG01_26.jpg',\n",
       " 'https://image-comic.pstatic.net/webtoon/662774/142/20180707225814_4b71bd0a142a9bb0cbc9c1bf5f2742a8_IMAG01_27.jpg',\n",
       " 'https://image-comic.pstatic.net/webtoon/662774/142/20180707225814_4b71bd0a142a9bb0cbc9c1bf5f2742a8_IMAG01_28.jpg',\n",
       " 'https://image-comic.pstatic.net/webtoon/662774/142/20180707225814_4b71bd0a142a9bb0cbc9c1bf5f2742a8_IMAG01_29.jpg',\n",
       " 'https://image-comic.pstatic.net/webtoon/662774/142/20180707225814_4b71bd0a142a9bb0cbc9c1bf5f2742a8_IMAG01_30.jpg',\n",
       " 'https://image-comic.pstatic.net/webtoon/662774/142/20180707225814_4b71bd0a142a9bb0cbc9c1bf5f2742a8_IMAG01_31.jpg',\n",
       " 'https://image-comic.pstatic.net/webtoon/662774/142/20180707225814_4b71bd0a142a9bb0cbc9c1bf5f2742a8_IMAG01_32.jpg',\n",
       " 'https://image-comic.pstatic.net/webtoon/662774/142/20180707225814_4b71bd0a142a9bb0cbc9c1bf5f2742a8_IMAG01_33.jpg',\n",
       " 'https://image-comic.pstatic.net/webtoon/662774/142/20180707225814_4b71bd0a142a9bb0cbc9c1bf5f2742a8_IMAG01_34.jpg',\n",
       " 'https://image-comic.pstatic.net/webtoon/662774/142/20180707225814_4b71bd0a142a9bb0cbc9c1bf5f2742a8_IMAG01_35.jpg',\n",
       " 'https://image-comic.pstatic.net/webtoon/662774/142/20180707225814_4b71bd0a142a9bb0cbc9c1bf5f2742a8_IMAG01_36.jpg',\n",
       " 'https://image-comic.pstatic.net/webtoon/662774/142/20180707225814_4b71bd0a142a9bb0cbc9c1bf5f2742a8_IMAG01_37.jpg',\n",
       " 'https://image-comic.pstatic.net/webtoon/662774/142/20180707225814_4b71bd0a142a9bb0cbc9c1bf5f2742a8_IMAG01_38.jpg',\n",
       " 'https://image-comic.pstatic.net/webtoon/662774/142/20180707225814_4b71bd0a142a9bb0cbc9c1bf5f2742a8_IMAG01_39.jpg',\n",
       " 'https://image-comic.pstatic.net/webtoon/662774/142/20180707225814_4b71bd0a142a9bb0cbc9c1bf5f2742a8_IMAG01_40.jpg',\n",
       " 'https://image-comic.pstatic.net/webtoon/662774/142/20180707225814_4b71bd0a142a9bb0cbc9c1bf5f2742a8_IMAG01_41.jpg',\n",
       " 'https://image-comic.pstatic.net/webtoon/662774/142/20180707225814_4b71bd0a142a9bb0cbc9c1bf5f2742a8_IMAG01_42.jpg',\n",
       " 'https://image-comic.pstatic.net/webtoon/662774/142/20180707225814_4b71bd0a142a9bb0cbc9c1bf5f2742a8_IMAG01_43.jpg',\n",
       " 'https://image-comic.pstatic.net/webtoon/662774/142/20180707225814_4b71bd0a142a9bb0cbc9c1bf5f2742a8_IMAG01_44.jpg',\n",
       " 'https://image-comic.pstatic.net/webtoon/662774/142/20180707225814_4b71bd0a142a9bb0cbc9c1bf5f2742a8_IMAG01_45.jpg',\n",
       " 'https://image-comic.pstatic.net/webtoon/662774/142/20180707225814_4b71bd0a142a9bb0cbc9c1bf5f2742a8_IMAG01_46.jpg',\n",
       " 'https://image-comic.pstatic.net/webtoon/662774/142/20180707225814_4b71bd0a142a9bb0cbc9c1bf5f2742a8_IMAG01_47.jpg',\n",
       " 'https://image-comic.pstatic.net/webtoon/662774/142/20180707225814_4b71bd0a142a9bb0cbc9c1bf5f2742a8_IMAG01_48.jpg',\n",
       " 'https://image-comic.pstatic.net/webtoon/662774/142/20180707225814_4b71bd0a142a9bb0cbc9c1bf5f2742a8_IMAG01_49.jpg',\n",
       " 'https://image-comic.pstatic.net/webtoon/662774/142/20180707225814_4b71bd0a142a9bb0cbc9c1bf5f2742a8_IMAG01_50.jpg',\n",
       " 'https://image-comic.pstatic.net/webtoon/662774/142/20180707225814_4b71bd0a142a9bb0cbc9c1bf5f2742a8_IMAG01_51.jpg',\n",
       " 'https://image-comic.pstatic.net/webtoon/662774/142/20180707225814_4b71bd0a142a9bb0cbc9c1bf5f2742a8_IMAG01_52.jpg',\n",
       " 'https://image-comic.pstatic.net/webtoon/662774/142/20180707225814_4b71bd0a142a9bb0cbc9c1bf5f2742a8_IMAG01_53.jpg',\n",
       " 'https://image-comic.pstatic.net/webtoon/662774/142/20180707225814_4b71bd0a142a9bb0cbc9c1bf5f2742a8_IMAG01_54.jpg',\n",
       " 'https://image-comic.pstatic.net/webtoon/662774/142/20180707225814_4b71bd0a142a9bb0cbc9c1bf5f2742a8_IMAG01_55.jpg',\n",
       " 'https://image-comic.pstatic.net/webtoon/662774/142/20180707225814_4b71bd0a142a9bb0cbc9c1bf5f2742a8_IMAG01_56.jpg',\n",
       " 'https://image-comic.pstatic.net/webtoon/662774/142/20180707225814_4b71bd0a142a9bb0cbc9c1bf5f2742a8_IMAG01_57.jpg',\n",
       " 'https://image-comic.pstatic.net/webtoon/662774/142/20180707225814_4b71bd0a142a9bb0cbc9c1bf5f2742a8_IMAG01_58.jpg',\n",
       " 'https://image-comic.pstatic.net/webtoon/662774/142/20180707225814_4b71bd0a142a9bb0cbc9c1bf5f2742a8_IMAG01_59.jpg',\n",
       " 'https://image-comic.pstatic.net/webtoon/662774/142/20180707225814_4b71bd0a142a9bb0cbc9c1bf5f2742a8_IMAG01_60.jpg',\n",
       " 'https://image-comic.pstatic.net/webtoon/662774/142/20180707225814_4b71bd0a142a9bb0cbc9c1bf5f2742a8_IMAG01_61.jpg',\n",
       " 'https://image-comic.pstatic.net/webtoon/662774/142/20180707225814_4b71bd0a142a9bb0cbc9c1bf5f2742a8_IMAG01_62.jpg',\n",
       " 'https://image-comic.pstatic.net/webtoon/662774/142/20180707225814_4b71bd0a142a9bb0cbc9c1bf5f2742a8_IMAG01_63.jpg',\n",
       " 'https://image-comic.pstatic.net/webtoon/662774/142/20180707225814_4b71bd0a142a9bb0cbc9c1bf5f2742a8_IMAG01_64.jpg',\n",
       " 'https://image-comic.pstatic.net/webtoon/662774/142/20180707225814_4b71bd0a142a9bb0cbc9c1bf5f2742a8_IMAG01_65.jpg',\n",
       " 'https://image-comic.pstatic.net/webtoon/662774/142/20180707225814_4b71bd0a142a9bb0cbc9c1bf5f2742a8_IMAG01_66.jpg',\n",
       " 'https://image-comic.pstatic.net/webtoon/662774/142/20180707225814_4b71bd0a142a9bb0cbc9c1bf5f2742a8_IMAG01_67.jpg',\n",
       " 'https://image-comic.pstatic.net/webtoon/662774/142/20180707225814_4b71bd0a142a9bb0cbc9c1bf5f2742a8_IMAG01_68.jpg',\n",
       " 'https://image-comic.pstatic.net/webtoon/662774/142/20180707225814_4b71bd0a142a9bb0cbc9c1bf5f2742a8_IMAG01_69.jpg',\n",
       " 'https://image-comic.pstatic.net/webtoon/662774/142/20180707225814_4b71bd0a142a9bb0cbc9c1bf5f2742a8_IMAG01_70.jpg',\n",
       " 'https://image-comic.pstatic.net/webtoon/662774/142/20180707225814_4b71bd0a142a9bb0cbc9c1bf5f2742a8_IMAG01_71.jpg',\n",
       " 'https://image-comic.pstatic.net/webtoon/662774/142/20180707225814_4b71bd0a142a9bb0cbc9c1bf5f2742a8_IMAG01_72.jpg',\n",
       " 'https://image-comic.pstatic.net/webtoon/662774/142/20180707225814_4b71bd0a142a9bb0cbc9c1bf5f2742a8_IMAG01_73.jpg',\n",
       " 'https://image-comic.pstatic.net/webtoon/662774/142/20180707225814_4b71bd0a142a9bb0cbc9c1bf5f2742a8_IMAG01_74.jpg',\n",
       " 'https://image-comic.pstatic.net/webtoon/662774/142/20180707225814_4b71bd0a142a9bb0cbc9c1bf5f2742a8_IMAG01_75.jpg',\n",
       " 'https://image-comic.pstatic.net/webtoon/662774/142/20180707225814_4b71bd0a142a9bb0cbc9c1bf5f2742a8_IMAG01_76.jpg',\n",
       " 'https://ssl.pstatic.net/static/comic/images/txt_ads.png',\n",
       " 'https://ssl.pstatic.net/static/comic/images/txt_ads.png']"
      ]
     },
     "execution_count": 11,
     "metadata": {},
     "output_type": "execute_result"
    }
   ],
   "source": [
    "res = requests.get(comic_url) \n",
    "html = res.text\n",
    "soup = BeautifulSoup(html, 'html.parser')\n",
    "\n",
    "image_url_list = []\n",
    "\n",
    "for tag in soup.select('#comic_view_area img'):\n",
    "    try:\n",
    "        image_url = tag['src']\n",
    "        if image_url:\n",
    "            image_url_list.append(image_url)\n",
    "    except KeyError:\n",
    "        pass\n",
    "        \n",
    "image_url_list"
   ]
  },
  {
   "cell_type": "code",
   "execution_count": 12,
   "metadata": {},
   "outputs": [
    {
     "name": "stdout",
     "output_type": "stream",
     "text": [
      "https://image-comic.pstatic.net/webtoon/662774/142/20180707225814_4b71bd0a142a9bb0cbc9c1bf5f2742a8_IMAG01_1.jpg\n",
      "https://image-comic.pstatic.net/webtoon/662774/142/20180707225814_4b71bd0a142a9bb0cbc9c1bf5f2742a8_IMAG01_2.jpg\n",
      "https://image-comic.pstatic.net/webtoon/662774/142/20180707225814_4b71bd0a142a9bb0cbc9c1bf5f2742a8_IMAG01_3.jpg\n",
      "https://image-comic.pstatic.net/webtoon/662774/142/20180707225814_4b71bd0a142a9bb0cbc9c1bf5f2742a8_IMAG01_4.jpg\n",
      "https://image-comic.pstatic.net/webtoon/662774/142/20180707225814_4b71bd0a142a9bb0cbc9c1bf5f2742a8_IMAG01_5.jpg\n",
      "https://image-comic.pstatic.net/webtoon/662774/142/20180707225814_4b71bd0a142a9bb0cbc9c1bf5f2742a8_IMAG01_6.jpg\n",
      "https://image-comic.pstatic.net/webtoon/662774/142/20180707225814_4b71bd0a142a9bb0cbc9c1bf5f2742a8_IMAG01_7.jpg\n",
      "https://image-comic.pstatic.net/webtoon/662774/142/20180707225814_4b71bd0a142a9bb0cbc9c1bf5f2742a8_IMAG01_8.jpg\n",
      "https://image-comic.pstatic.net/webtoon/662774/142/20180707225814_4b71bd0a142a9bb0cbc9c1bf5f2742a8_IMAG01_9.jpg\n",
      "https://image-comic.pstatic.net/webtoon/662774/142/20180707225814_4b71bd0a142a9bb0cbc9c1bf5f2742a8_IMAG01_10.jpg\n",
      "https://image-comic.pstatic.net/webtoon/662774/142/20180707225814_4b71bd0a142a9bb0cbc9c1bf5f2742a8_IMAG01_11.jpg\n",
      "https://image-comic.pstatic.net/webtoon/662774/142/20180707225814_4b71bd0a142a9bb0cbc9c1bf5f2742a8_IMAG01_12.jpg\n",
      "https://image-comic.pstatic.net/webtoon/662774/142/20180707225814_4b71bd0a142a9bb0cbc9c1bf5f2742a8_IMAG01_13.jpg\n",
      "https://image-comic.pstatic.net/webtoon/662774/142/20180707225814_4b71bd0a142a9bb0cbc9c1bf5f2742a8_IMAG01_14.jpg\n",
      "https://image-comic.pstatic.net/webtoon/662774/142/20180707225814_4b71bd0a142a9bb0cbc9c1bf5f2742a8_IMAG01_15.jpg\n",
      "https://image-comic.pstatic.net/webtoon/662774/142/20180707225814_4b71bd0a142a9bb0cbc9c1bf5f2742a8_IMAG01_16.jpg\n",
      "https://image-comic.pstatic.net/webtoon/662774/142/20180707225814_4b71bd0a142a9bb0cbc9c1bf5f2742a8_IMAG01_17.jpg\n",
      "https://image-comic.pstatic.net/webtoon/662774/142/20180707225814_4b71bd0a142a9bb0cbc9c1bf5f2742a8_IMAG01_18.jpg\n",
      "https://image-comic.pstatic.net/webtoon/662774/142/20180707225814_4b71bd0a142a9bb0cbc9c1bf5f2742a8_IMAG01_19.jpg\n",
      "https://image-comic.pstatic.net/webtoon/662774/142/20180707225814_4b71bd0a142a9bb0cbc9c1bf5f2742a8_IMAG01_20.jpg\n",
      "https://image-comic.pstatic.net/webtoon/662774/142/20180707225814_4b71bd0a142a9bb0cbc9c1bf5f2742a8_IMAG01_21.jpg\n",
      "https://image-comic.pstatic.net/webtoon/662774/142/20180707225814_4b71bd0a142a9bb0cbc9c1bf5f2742a8_IMAG01_22.jpg\n",
      "https://image-comic.pstatic.net/webtoon/662774/142/20180707225814_4b71bd0a142a9bb0cbc9c1bf5f2742a8_IMAG01_23.jpg\n",
      "https://image-comic.pstatic.net/webtoon/662774/142/20180707225814_4b71bd0a142a9bb0cbc9c1bf5f2742a8_IMAG01_24.jpg\n",
      "https://image-comic.pstatic.net/webtoon/662774/142/20180707225814_4b71bd0a142a9bb0cbc9c1bf5f2742a8_IMAG01_25.jpg\n",
      "https://image-comic.pstatic.net/webtoon/662774/142/20180707225814_4b71bd0a142a9bb0cbc9c1bf5f2742a8_IMAG01_26.jpg\n",
      "https://image-comic.pstatic.net/webtoon/662774/142/20180707225814_4b71bd0a142a9bb0cbc9c1bf5f2742a8_IMAG01_27.jpg\n",
      "https://image-comic.pstatic.net/webtoon/662774/142/20180707225814_4b71bd0a142a9bb0cbc9c1bf5f2742a8_IMAG01_28.jpg\n",
      "https://image-comic.pstatic.net/webtoon/662774/142/20180707225814_4b71bd0a142a9bb0cbc9c1bf5f2742a8_IMAG01_29.jpg\n",
      "https://image-comic.pstatic.net/webtoon/662774/142/20180707225814_4b71bd0a142a9bb0cbc9c1bf5f2742a8_IMAG01_30.jpg\n",
      "https://image-comic.pstatic.net/webtoon/662774/142/20180707225814_4b71bd0a142a9bb0cbc9c1bf5f2742a8_IMAG01_31.jpg\n",
      "https://image-comic.pstatic.net/webtoon/662774/142/20180707225814_4b71bd0a142a9bb0cbc9c1bf5f2742a8_IMAG01_32.jpg\n",
      "https://image-comic.pstatic.net/webtoon/662774/142/20180707225814_4b71bd0a142a9bb0cbc9c1bf5f2742a8_IMAG01_33.jpg\n",
      "https://image-comic.pstatic.net/webtoon/662774/142/20180707225814_4b71bd0a142a9bb0cbc9c1bf5f2742a8_IMAG01_34.jpg\n",
      "https://image-comic.pstatic.net/webtoon/662774/142/20180707225814_4b71bd0a142a9bb0cbc9c1bf5f2742a8_IMAG01_35.jpg\n",
      "https://image-comic.pstatic.net/webtoon/662774/142/20180707225814_4b71bd0a142a9bb0cbc9c1bf5f2742a8_IMAG01_36.jpg\n",
      "https://image-comic.pstatic.net/webtoon/662774/142/20180707225814_4b71bd0a142a9bb0cbc9c1bf5f2742a8_IMAG01_37.jpg\n",
      "https://image-comic.pstatic.net/webtoon/662774/142/20180707225814_4b71bd0a142a9bb0cbc9c1bf5f2742a8_IMAG01_38.jpg\n",
      "https://image-comic.pstatic.net/webtoon/662774/142/20180707225814_4b71bd0a142a9bb0cbc9c1bf5f2742a8_IMAG01_39.jpg\n",
      "https://image-comic.pstatic.net/webtoon/662774/142/20180707225814_4b71bd0a142a9bb0cbc9c1bf5f2742a8_IMAG01_40.jpg\n",
      "https://image-comic.pstatic.net/webtoon/662774/142/20180707225814_4b71bd0a142a9bb0cbc9c1bf5f2742a8_IMAG01_41.jpg\n",
      "https://image-comic.pstatic.net/webtoon/662774/142/20180707225814_4b71bd0a142a9bb0cbc9c1bf5f2742a8_IMAG01_42.jpg\n",
      "https://image-comic.pstatic.net/webtoon/662774/142/20180707225814_4b71bd0a142a9bb0cbc9c1bf5f2742a8_IMAG01_43.jpg\n",
      "https://image-comic.pstatic.net/webtoon/662774/142/20180707225814_4b71bd0a142a9bb0cbc9c1bf5f2742a8_IMAG01_44.jpg\n",
      "https://image-comic.pstatic.net/webtoon/662774/142/20180707225814_4b71bd0a142a9bb0cbc9c1bf5f2742a8_IMAG01_45.jpg\n",
      "https://image-comic.pstatic.net/webtoon/662774/142/20180707225814_4b71bd0a142a9bb0cbc9c1bf5f2742a8_IMAG01_46.jpg\n",
      "https://image-comic.pstatic.net/webtoon/662774/142/20180707225814_4b71bd0a142a9bb0cbc9c1bf5f2742a8_IMAG01_47.jpg\n",
      "https://image-comic.pstatic.net/webtoon/662774/142/20180707225814_4b71bd0a142a9bb0cbc9c1bf5f2742a8_IMAG01_48.jpg\n",
      "https://image-comic.pstatic.net/webtoon/662774/142/20180707225814_4b71bd0a142a9bb0cbc9c1bf5f2742a8_IMAG01_49.jpg\n",
      "https://image-comic.pstatic.net/webtoon/662774/142/20180707225814_4b71bd0a142a9bb0cbc9c1bf5f2742a8_IMAG01_50.jpg\n",
      "https://image-comic.pstatic.net/webtoon/662774/142/20180707225814_4b71bd0a142a9bb0cbc9c1bf5f2742a8_IMAG01_51.jpg\n",
      "https://image-comic.pstatic.net/webtoon/662774/142/20180707225814_4b71bd0a142a9bb0cbc9c1bf5f2742a8_IMAG01_52.jpg\n",
      "https://image-comic.pstatic.net/webtoon/662774/142/20180707225814_4b71bd0a142a9bb0cbc9c1bf5f2742a8_IMAG01_53.jpg\n",
      "https://image-comic.pstatic.net/webtoon/662774/142/20180707225814_4b71bd0a142a9bb0cbc9c1bf5f2742a8_IMAG01_54.jpg\n",
      "https://image-comic.pstatic.net/webtoon/662774/142/20180707225814_4b71bd0a142a9bb0cbc9c1bf5f2742a8_IMAG01_55.jpg\n",
      "https://image-comic.pstatic.net/webtoon/662774/142/20180707225814_4b71bd0a142a9bb0cbc9c1bf5f2742a8_IMAG01_56.jpg\n",
      "https://image-comic.pstatic.net/webtoon/662774/142/20180707225814_4b71bd0a142a9bb0cbc9c1bf5f2742a8_IMAG01_57.jpg\n",
      "https://image-comic.pstatic.net/webtoon/662774/142/20180707225814_4b71bd0a142a9bb0cbc9c1bf5f2742a8_IMAG01_58.jpg\n",
      "https://image-comic.pstatic.net/webtoon/662774/142/20180707225814_4b71bd0a142a9bb0cbc9c1bf5f2742a8_IMAG01_59.jpg\n",
      "https://image-comic.pstatic.net/webtoon/662774/142/20180707225814_4b71bd0a142a9bb0cbc9c1bf5f2742a8_IMAG01_60.jpg\n",
      "https://image-comic.pstatic.net/webtoon/662774/142/20180707225814_4b71bd0a142a9bb0cbc9c1bf5f2742a8_IMAG01_61.jpg\n",
      "https://image-comic.pstatic.net/webtoon/662774/142/20180707225814_4b71bd0a142a9bb0cbc9c1bf5f2742a8_IMAG01_62.jpg\n",
      "https://image-comic.pstatic.net/webtoon/662774/142/20180707225814_4b71bd0a142a9bb0cbc9c1bf5f2742a8_IMAG01_63.jpg\n",
      "https://image-comic.pstatic.net/webtoon/662774/142/20180707225814_4b71bd0a142a9bb0cbc9c1bf5f2742a8_IMAG01_64.jpg\n",
      "https://image-comic.pstatic.net/webtoon/662774/142/20180707225814_4b71bd0a142a9bb0cbc9c1bf5f2742a8_IMAG01_65.jpg\n",
      "https://image-comic.pstatic.net/webtoon/662774/142/20180707225814_4b71bd0a142a9bb0cbc9c1bf5f2742a8_IMAG01_66.jpg\n",
      "https://image-comic.pstatic.net/webtoon/662774/142/20180707225814_4b71bd0a142a9bb0cbc9c1bf5f2742a8_IMAG01_67.jpg\n",
      "https://image-comic.pstatic.net/webtoon/662774/142/20180707225814_4b71bd0a142a9bb0cbc9c1bf5f2742a8_IMAG01_68.jpg\n",
      "https://image-comic.pstatic.net/webtoon/662774/142/20180707225814_4b71bd0a142a9bb0cbc9c1bf5f2742a8_IMAG01_69.jpg\n",
      "https://image-comic.pstatic.net/webtoon/662774/142/20180707225814_4b71bd0a142a9bb0cbc9c1bf5f2742a8_IMAG01_70.jpg\n",
      "https://image-comic.pstatic.net/webtoon/662774/142/20180707225814_4b71bd0a142a9bb0cbc9c1bf5f2742a8_IMAG01_71.jpg\n",
      "https://image-comic.pstatic.net/webtoon/662774/142/20180707225814_4b71bd0a142a9bb0cbc9c1bf5f2742a8_IMAG01_72.jpg\n",
      "https://image-comic.pstatic.net/webtoon/662774/142/20180707225814_4b71bd0a142a9bb0cbc9c1bf5f2742a8_IMAG01_73.jpg\n",
      "https://image-comic.pstatic.net/webtoon/662774/142/20180707225814_4b71bd0a142a9bb0cbc9c1bf5f2742a8_IMAG01_74.jpg\n",
      "https://image-comic.pstatic.net/webtoon/662774/142/20180707225814_4b71bd0a142a9bb0cbc9c1bf5f2742a8_IMAG01_75.jpg\n",
      "https://image-comic.pstatic.net/webtoon/662774/142/20180707225814_4b71bd0a142a9bb0cbc9c1bf5f2742a8_IMAG01_76.jpg\n"
     ]
    },
    {
     "name": "stdout",
     "output_type": "stream",
     "text": [
      "https://ssl.pstatic.net/static/comic/images/txt_ads.png\n",
      "https://ssl.pstatic.net/static/comic/images/txt_ads.png\n"
     ]
    }
   ],
   "source": [
    "for image_url in image_url_list:\n",
    "    if image_url:\n",
    "        res = requests.get(image_url, headers={'Referer': comic_url})\n",
    "        image_data = res.content\n",
    "        image_name = os.path.basename(image_url)\n",
    "\n",
    "        print(image_url)\n",
    "        with open(image_name, 'wb') as f:\n",
    "            f.write(image_data)"
   ]
  },
  {
   "cell_type": "code",
   "execution_count": null,
   "metadata": {
    "collapsed": true
   },
   "outputs": [],
   "source": []
  },
  {
   "cell_type": "code",
   "execution_count": null,
   "metadata": {
    "collapsed": true
   },
   "outputs": [],
   "source": []
  },
  {
   "cell_type": "markdown",
   "metadata": {
    "collapsed": true
   },
   "source": [
    "## set(집합형)"
   ]
  },
  {
   "cell_type": "code",
   "execution_count": 14,
   "metadata": {},
   "outputs": [
    {
     "data": {
      "text/plain": [
       "{1, 2, 3, 4, 5, 6}"
      ]
     },
     "execution_count": 14,
     "metadata": {},
     "output_type": "execute_result"
    }
   ],
   "source": [
    "set_num = {1,3,4,2,4,5,1,6,1}\n",
    "set_num"
   ]
  },
  {
   "cell_type": "code",
   "execution_count": 15,
   "metadata": {},
   "outputs": [
    {
     "name": "stdout",
     "output_type": "stream",
     "text": [
      "1\n",
      "2\n",
      "3\n",
      "4\n",
      "5\n",
      "6\n"
     ]
    }
   ],
   "source": [
    "for value in set_num: #임의 순서대로 정렬이 되어있다.\n",
    "    print(value)"
   ]
  },
  {
   "cell_type": "code",
   "execution_count": 17,
   "metadata": {},
   "outputs": [
    {
     "name": "stdout",
     "output_type": "stream",
     "text": [
      "1\n",
      "2\n",
      "3\n",
      "4\n",
      "5\n",
      "6\n"
     ]
    }
   ],
   "source": [
    "for value in sorted(set_num): #오름차순 정렬이 되어있다.\n",
    "    print(value)"
   ]
  },
  {
   "cell_type": "code",
   "execution_count": 18,
   "metadata": {},
   "outputs": [
    {
     "name": "stdout",
     "output_type": "stream",
     "text": [
      "6\n",
      "5\n",
      "4\n",
      "3\n",
      "2\n",
      "1\n"
     ]
    }
   ],
   "source": [
    "for value in sorted(set_num, reverse = True): #내림차순 정렬이 되어있다.\n",
    "    print(value)"
   ]
  },
  {
   "cell_type": "code",
   "execution_count": null,
   "metadata": {
    "collapsed": true
   },
   "outputs": [],
   "source": []
  },
  {
   "cell_type": "code",
   "execution_count": 20,
   "metadata": {},
   "outputs": [
    {
     "data": {
      "text/plain": [
       "[1, 2, 3, 4, 5, 6]"
      ]
     },
     "execution_count": 20,
     "metadata": {},
     "output_type": "execute_result"
    }
   ],
   "source": [
    "mylist = [1,3,4,5,2,5,6,2,4,4]\n",
    "list(set(mylist))"
   ]
  },
  {
   "cell_type": "code",
   "execution_count": null,
   "metadata": {
    "collapsed": true
   },
   "outputs": [],
   "source": []
  },
  {
   "cell_type": "markdown",
   "metadata": {},
   "source": [
    "## dict(사전)"
   ]
  },
  {
   "cell_type": "code",
   "execution_count": 21,
   "metadata": {
    "collapsed": true
   },
   "outputs": [],
   "source": [
    "학생목록 = [\n",
    "    {'이름': '김철수', '국어': 52, '수학':60,'영어':80},\n",
    "    {'이름': '김종우', '국어': 98, '수학':100,'영어':80},\n",
    "    {'이름': '이진수', '국어': 62, '수학':40,'영어':90}\n",
    "]"
   ]
  },
  {
   "cell_type": "code",
   "execution_count": 26,
   "metadata": {},
   "outputs": [
    {
     "name": "stdout",
     "output_type": "stream",
     "text": [
      "김철수 64\n",
      "김종우 92\n",
      "이진수 64\n"
     ]
    }
   ],
   "source": [
    "for 학생 in 학생목록:\n",
    "    평균 = (학생['국어'] + 학생[\"영어\"]+학생['수학']) // 3\n",
    "    print(학생['이름'], 평균)"
   ]
  },
  {
   "cell_type": "code",
   "execution_count": null,
   "metadata": {
    "collapsed": true
   },
   "outputs": [],
   "source": []
  },
  {
   "cell_type": "code",
   "execution_count": null,
   "metadata": {
    "collapsed": true
   },
   "outputs": [],
   "source": []
  },
  {
   "cell_type": "code",
   "execution_count": null,
   "metadata": {
    "collapsed": true
   },
   "outputs": [],
   "source": []
  },
  {
   "cell_type": "code",
   "execution_count": null,
   "metadata": {
    "collapsed": true
   },
   "outputs": [],
   "source": []
  },
  {
   "cell_type": "code",
   "execution_count": null,
   "metadata": {
    "collapsed": true
   },
   "outputs": [],
   "source": []
  },
  {
   "cell_type": "code",
   "execution_count": null,
   "metadata": {
    "collapsed": true
   },
   "outputs": [],
   "source": []
  },
  {
   "cell_type": "code",
   "execution_count": null,
   "metadata": {
    "collapsed": true
   },
   "outputs": [],
   "source": []
  },
  {
   "cell_type": "code",
   "execution_count": null,
   "metadata": {
    "collapsed": true
   },
   "outputs": [],
   "source": []
  }
 ],
 "metadata": {
  "kernelspec": {
   "display_name": "Python 3",
   "language": "python",
   "name": "python3"
  },
  "language_info": {
   "codemirror_mode": {
    "name": "ipython",
    "version": 3
   },
   "file_extension": ".py",
   "mimetype": "text/x-python",
   "name": "python",
   "nbconvert_exporter": "python",
   "pygments_lexer": "ipython3",
   "version": "3.6.5"
  }
 },
 "nbformat": 4,
 "nbformat_minor": 2
}
